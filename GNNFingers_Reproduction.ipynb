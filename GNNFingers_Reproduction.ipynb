{
  "nbformat": 4,
  "nbformat_minor": 0,
  "metadata": {
    "colab": {
      "provenance": [],
      "authorship_tag": "ABX9TyOsvhCXw7ZXQ3G9M/LxLkXk",
      "include_colab_link": true
    },
    "kernelspec": {
      "name": "python3",
      "display_name": "Python 3"
    },
    "language_info": {
      "name": "python"
    }
  },
  "cells": [
    {
      "cell_type": "markdown",
      "metadata": {
        "id": "view-in-github",
        "colab_type": "text"
      },
      "source": [
        "<a href=\"https://colab.research.google.com/github/GloriousSNK/GNNFingers-Reproduction/blob/main/GNNFingers_Reproduction.ipynb\" target=\"_parent\"><img src=\"https://colab.research.google.com/assets/colab-badge.svg\" alt=\"Open In Colab\"/></a>"
      ]
    },
    {
      "cell_type": "code",
      "execution_count": 27,
      "metadata": {
        "colab": {
          "base_uri": "https://localhost:8080/"
        },
        "id": "7NZzDJKDdRuI",
        "outputId": "92879c4c-0770-4863-d2aa-a7cff4c39fe4",
        "collapsed": true
      },
      "outputs": [
        {
          "output_type": "stream",
          "name": "stdout",
          "text": [
            "Requirement already satisfied: torch in /usr/local/lib/python3.12/dist-packages (2.8.0+cu126)\n",
            "Requirement already satisfied: filelock in /usr/local/lib/python3.12/dist-packages (from torch) (3.19.1)\n",
            "Requirement already satisfied: typing-extensions>=4.10.0 in /usr/local/lib/python3.12/dist-packages (from torch) (4.14.1)\n",
            "Requirement already satisfied: setuptools in /usr/local/lib/python3.12/dist-packages (from torch) (75.2.0)\n",
            "Requirement already satisfied: sympy>=1.13.3 in /usr/local/lib/python3.12/dist-packages (from torch) (1.13.3)\n",
            "Requirement already satisfied: networkx in /usr/local/lib/python3.12/dist-packages (from torch) (3.5)\n",
            "Requirement already satisfied: jinja2 in /usr/local/lib/python3.12/dist-packages (from torch) (3.1.6)\n",
            "Requirement already satisfied: fsspec in /usr/local/lib/python3.12/dist-packages (from torch) (2025.3.0)\n",
            "Requirement already satisfied: nvidia-cuda-nvrtc-cu12==12.6.77 in /usr/local/lib/python3.12/dist-packages (from torch) (12.6.77)\n",
            "Requirement already satisfied: nvidia-cuda-runtime-cu12==12.6.77 in /usr/local/lib/python3.12/dist-packages (from torch) (12.6.77)\n",
            "Requirement already satisfied: nvidia-cuda-cupti-cu12==12.6.80 in /usr/local/lib/python3.12/dist-packages (from torch) (12.6.80)\n",
            "Requirement already satisfied: nvidia-cudnn-cu12==9.10.2.21 in /usr/local/lib/python3.12/dist-packages (from torch) (9.10.2.21)\n",
            "Requirement already satisfied: nvidia-cublas-cu12==12.6.4.1 in /usr/local/lib/python3.12/dist-packages (from torch) (12.6.4.1)\n",
            "Requirement already satisfied: nvidia-cufft-cu12==11.3.0.4 in /usr/local/lib/python3.12/dist-packages (from torch) (11.3.0.4)\n",
            "Requirement already satisfied: nvidia-curand-cu12==10.3.7.77 in /usr/local/lib/python3.12/dist-packages (from torch) (10.3.7.77)\n",
            "Requirement already satisfied: nvidia-cusolver-cu12==11.7.1.2 in /usr/local/lib/python3.12/dist-packages (from torch) (11.7.1.2)\n",
            "Requirement already satisfied: nvidia-cusparse-cu12==12.5.4.2 in /usr/local/lib/python3.12/dist-packages (from torch) (12.5.4.2)\n",
            "Requirement already satisfied: nvidia-cusparselt-cu12==0.7.1 in /usr/local/lib/python3.12/dist-packages (from torch) (0.7.1)\n",
            "Requirement already satisfied: nvidia-nccl-cu12==2.27.3 in /usr/local/lib/python3.12/dist-packages (from torch) (2.27.3)\n",
            "Requirement already satisfied: nvidia-nvtx-cu12==12.6.77 in /usr/local/lib/python3.12/dist-packages (from torch) (12.6.77)\n",
            "Requirement already satisfied: nvidia-nvjitlink-cu12==12.6.85 in /usr/local/lib/python3.12/dist-packages (from torch) (12.6.85)\n",
            "Requirement already satisfied: nvidia-cufile-cu12==1.11.1.6 in /usr/local/lib/python3.12/dist-packages (from torch) (1.11.1.6)\n",
            "Requirement already satisfied: triton==3.4.0 in /usr/local/lib/python3.12/dist-packages (from torch) (3.4.0)\n",
            "Requirement already satisfied: mpmath<1.4,>=1.1.0 in /usr/local/lib/python3.12/dist-packages (from sympy>=1.13.3->torch) (1.3.0)\n",
            "Requirement already satisfied: MarkupSafe>=2.0 in /usr/local/lib/python3.12/dist-packages (from jinja2->torch) (3.0.2)\n",
            "Looking in links: https://data.pyg.org/whl/torch-2.2.0+cu118.html\n",
            "Requirement already satisfied: torch-scatter in /usr/local/lib/python3.12/dist-packages (2.1.2+pt22cu118)\n",
            "Requirement already satisfied: torch-sparse in /usr/local/lib/python3.12/dist-packages (0.6.18+pt22cu118)\n",
            "Requirement already satisfied: torch-cluster in /usr/local/lib/python3.12/dist-packages (1.6.3+pt22cu118)\n",
            "Requirement already satisfied: torch-spline-conv in /usr/local/lib/python3.12/dist-packages (1.2.2+pt22cu118)\n",
            "Requirement already satisfied: torch-geometric in /usr/local/lib/python3.12/dist-packages (2.6.1)\n",
            "Requirement already satisfied: scipy in /usr/local/lib/python3.12/dist-packages (from torch-sparse) (1.16.1)\n",
            "Requirement already satisfied: aiohttp in /usr/local/lib/python3.12/dist-packages (from torch-geometric) (3.12.15)\n",
            "Requirement already satisfied: fsspec in /usr/local/lib/python3.12/dist-packages (from torch-geometric) (2025.3.0)\n",
            "Requirement already satisfied: jinja2 in /usr/local/lib/python3.12/dist-packages (from torch-geometric) (3.1.6)\n",
            "Requirement already satisfied: numpy in /usr/local/lib/python3.12/dist-packages (from torch-geometric) (2.0.2)\n",
            "Requirement already satisfied: psutil>=5.8.0 in /usr/local/lib/python3.12/dist-packages (from torch-geometric) (5.9.5)\n",
            "Requirement already satisfied: pyparsing in /usr/local/lib/python3.12/dist-packages (from torch-geometric) (3.2.3)\n",
            "Requirement already satisfied: requests in /usr/local/lib/python3.12/dist-packages (from torch-geometric) (2.32.4)\n",
            "Requirement already satisfied: tqdm in /usr/local/lib/python3.12/dist-packages (from torch-geometric) (4.67.1)\n",
            "Requirement already satisfied: aiohappyeyeballs>=2.5.0 in /usr/local/lib/python3.12/dist-packages (from aiohttp->torch-geometric) (2.6.1)\n",
            "Requirement already satisfied: aiosignal>=1.4.0 in /usr/local/lib/python3.12/dist-packages (from aiohttp->torch-geometric) (1.4.0)\n",
            "Requirement already satisfied: attrs>=17.3.0 in /usr/local/lib/python3.12/dist-packages (from aiohttp->torch-geometric) (25.3.0)\n",
            "Requirement already satisfied: frozenlist>=1.1.1 in /usr/local/lib/python3.12/dist-packages (from aiohttp->torch-geometric) (1.7.0)\n",
            "Requirement already satisfied: multidict<7.0,>=4.5 in /usr/local/lib/python3.12/dist-packages (from aiohttp->torch-geometric) (6.6.4)\n",
            "Requirement already satisfied: propcache>=0.2.0 in /usr/local/lib/python3.12/dist-packages (from aiohttp->torch-geometric) (0.3.2)\n",
            "Requirement already satisfied: yarl<2.0,>=1.17.0 in /usr/local/lib/python3.12/dist-packages (from aiohttp->torch-geometric) (1.20.1)\n",
            "Requirement already satisfied: MarkupSafe>=2.0 in /usr/local/lib/python3.12/dist-packages (from jinja2->torch-geometric) (3.0.2)\n",
            "Requirement already satisfied: charset_normalizer<4,>=2 in /usr/local/lib/python3.12/dist-packages (from requests->torch-geometric) (3.4.3)\n",
            "Requirement already satisfied: idna<4,>=2.5 in /usr/local/lib/python3.12/dist-packages (from requests->torch-geometric) (3.10)\n",
            "Requirement already satisfied: urllib3<3,>=1.21.1 in /usr/local/lib/python3.12/dist-packages (from requests->torch-geometric) (2.5.0)\n",
            "Requirement already satisfied: certifi>=2017.4.17 in /usr/local/lib/python3.12/dist-packages (from requests->torch-geometric) (2025.8.3)\n",
            "Requirement already satisfied: typing-extensions>=4.2 in /usr/local/lib/python3.12/dist-packages (from aiosignal>=1.4.0->aiohttp->torch-geometric) (4.14.1)\n"
          ]
        }
      ],
      "source": [
        "!pip install torch\n",
        "!pip install torch-scatter torch-sparse torch-cluster torch-spline-conv torch-geometric -f https://data.pyg.org/whl/torch-2.2.0+cu118.html"
      ]
    },
    {
      "cell_type": "code",
      "source": [
        "import os, math, random, time, json\n",
        "from dataclasses import dataclass\n",
        "from typing import List, Tuple, Dict\n",
        "\n",
        "import torch\n",
        "import torch.nn as nn\n",
        "import torch.nn.functional as F\n",
        "from torch_geometric.nn import GCNConv, SAGEConv\n",
        "from torch_geometric.datasets import Planetoid\n",
        "from torch_geometric.utils import to_undirected\n",
        "from sklearn.metrics import roc_auc_score\n",
        "\n",
        "# For consistent results across runs/machines\n",
        "def make_deterministic(seed: int = 123):\n",
        "    os.environ[\"PYTHONHASHSEED\" ] = str(seed)\n",
        "    random.seed(seed)\n",
        "    torch.manual_seed(seed)\n",
        "    torch.cuda.manual_seed_all(seed)\n",
        "    torch.backends.cudnn.deterministic = True\n",
        "    torch.backends.cudnn.benchmark = False\n",
        "\n",
        "# Fixes random seed for consistent results\n",
        "make_deterministic(42)\n",
        "\n",
        "device = torch.device('cuda' if torch.cuda.is_available() else 'cpu')\n",
        "print(f\"[info] Using device: {device}\")"
      ],
      "metadata": {
        "colab": {
          "base_uri": "https://localhost:8080/"
        },
        "id": "cl5NvpuddZDQ",
        "outputId": "dcadf5f0-00cc-41a6-f9dd-c63e642820a0"
      },
      "execution_count": 28,
      "outputs": [
        {
          "output_type": "stream",
          "name": "stdout",
          "text": [
            "[info] Using device: cpu\n"
          ]
        }
      ]
    },
    {
      "cell_type": "code",
      "source": [
        "# Get standard datasets\n",
        "task_kind = os.environ.get(\"TASK_KIND\", \"nodecls\")\n",
        "dataset_name = os.environ.get(\"DATASET\", \"Cora\")\n",
        "\n",
        "# Creates a citation dataset\n",
        "dataset = Planetoid(root='data/Planetoid', name=dataset_name)\n",
        "data = dataset[0].to(device)\n",
        "print(f\"[info] Dataset: { dataset_name} | nodes ={data.num_nodes} | feat={data.num_node_features} | classes={dataset.num_classes} \")\n",
        "\n",
        "# Simple GCN and GraphSAGE to classify nodes\n",
        "class SmallGCN(nn.Module):\n",
        "    def __init__(self, in_ch, hid_ch, out_ch, dropout=0.5):\n",
        "        super().__init__()\n",
        "        self.conv1 = GCNConv(in_ch,hid_ch, normalize = True)\n",
        "        self.conv2 = GCNConv(hid_ch, out_ch, normalize= True)\n",
        "        self.dropout = dropout\n",
        "\n",
        "    def forward(self, x, edge_index, edge_weight= None):\n",
        "        x= self.conv1(x, edge_index, edge_weight=edge_weight)\n",
        "        x = F.relu(x)\n",
        "        x =  F.dropout(x, p=self.dropout, training=self.training)\n",
        "        x = self.conv2(x, edge_index , edge_weight=edge_weight)\n",
        "        return x\n",
        "\n",
        "class SmallSAGE(nn.Module):\n",
        "    def __init__(self, in_ch,  hid_ch, out_ch, dropout= 0.5):\n",
        "        super().__init__()\n",
        "        self.conv1= SAGEConv(in_ch, hid_ch)\n",
        "        self.conv2 = SAGEConv(hid_ch, out_ch)\n",
        "        self.dropout = dropout\n",
        "\n",
        "    def forward(self, x, edge_index, edge_weight=None):\n",
        "        x = self.conv1(x, edge_index)\n",
        "        x = F.relu(x)\n",
        "        x = F.dropout(x, p=self.dropout, training=self.training)\n",
        "        x = self.conv2(x, edge_index)\n",
        "        return x\n",
        "\n",
        "def build_target(kind=\"gcn\"):\n",
        "    if kind == \"sage\":\n",
        "        return SmallSAGE(dataset.num_node_features, 64, dataset.num_classes).to(device)\n",
        "    return SmallGCN(dataset.num_node_features, 64, dataset.num_classes).to(device)"
      ],
      "metadata": {
        "colab": {
          "base_uri": "https://localhost:8080/"
        },
        "id": "6MVdZB-Wd_D4",
        "outputId": "006e1eb8-a528-4dcb-9ce3-3568aa4d554d"
      },
      "execution_count": 29,
      "outputs": [
        {
          "output_type": "stream",
          "name": "stdout",
          "text": [
            "[info] Dataset: Cora | nodes =2708 | feat=1433 | classes=7 \n"
          ]
        }
      ]
    },
    {
      "cell_type": "code",
      "source": [
        "# Trains one pass through the training data\n",
        "def run_train_epoch(m, feat, ei, mask, labels, opt, edge_weight =None):\n",
        "    m.train()\n",
        "    opt.zero_grad()\n",
        "    out = m( feat, ei, edge_weight=edge_weight )\n",
        "    loss = F.cross_entropy(out[mask],labels[mask])\n",
        "    loss.backward( )\n",
        "    opt.step()\n",
        "\n",
        "    return loss.item()\n",
        "\n",
        "# Checks accuracy of prediction\n",
        "@torch.no_grad()\n",
        "def eval_split(m, feat, ei, labels, mask, edge_weight = None):\n",
        "    m.eval()\n",
        "    logits = m(feat, ei, edge_weight = edge_weight)\n",
        "    predict = logits.argmax(dim=1)\n",
        "    accuracy = (predict[mask] == labels[mask]).float().mean().item()\n",
        "\n",
        "    return accuracy, logits"
      ],
      "metadata": {
        "id": "VFiU9Uqme8zX"
      },
      "execution_count": 30,
      "outputs": []
    },
    {
      "cell_type": "code",
      "source": [
        "make_deterministic(10)\n",
        "target_model = build_target(kind=os.environ.get(\"TARGET_ARCH\",\"gcn\"))\n",
        "opt_main = torch.optim.Adam(target_model.parameters(), lr = 0.01, weight_decay = 5e-4)\n",
        "\n",
        "# Keep best version of model based off validation data\n",
        "best_val, best_state = 0.0, None\n",
        "\n",
        "# Train model for 200 steps\n",
        "for ep in range(1, 201):\n",
        "    loss = run_train_epoch(target_model,data.x, data.edge_index, data.train_mask, data.y, opt_main)\n",
        "    va, _ = eval_split(target_model, data.x, data.edge_index, data.y, data.val_mask)\n",
        "    te, _ = eval_split(target_model, data.x, data.edge_index, data.y, data.test_mask)\n",
        "\n",
        "    if va > best_val:\n",
        "        best_val = va\n",
        "        best_state = {k:v.detach().cpu().clone() for k, v in target_model.state_dict().items() }\n",
        "    if ep in (1, 50, 100, 150, 200):\n",
        "        print(f\"[target] ep= {ep:3d} | loss = {loss:.4f} | val = {va:.4f} | test = {te:.4f}\")\n",
        "\n",
        "if best_state:\n",
        "    target_model.load_state_dict({k:v.to(device) for k, v in best_state.items()})\n",
        "torch.save(target_model.state_dict(), \"./target_main.pt\")\n"
      ],
      "metadata": {
        "colab": {
          "base_uri": "https://localhost:8080/"
        },
        "id": "_PjMgkqmf8Ki",
        "outputId": "c82f0714-c88b-45d7-fe7f-47b4387e8a15",
        "collapsed": true
      },
      "execution_count": 31,
      "outputs": [
        {
          "output_type": "stream",
          "name": "stdout",
          "text": [
            "[target] ep=   1 | loss = 1.9364 | val = 0.4400 | test = 0.4440\n",
            "[target] ep=  50 | loss = 0.0149 | val = 0.7760 | test = 0.8030\n",
            "[target] ep= 100 | loss = 0.0163 | val = 0.7780 | test = 0.8130\n",
            "[target] ep= 150 | loss = 0.0110 | val = 0.7720 | test = 0.8010\n",
            "[target] ep= 200 | loss = 0.0089 | val = 0.7780 | test = 0.8050\n"
          ]
        }
      ]
    },
    {
      "cell_type": "code",
      "source": [
        "def copy_model_like(m):\n",
        "    new_m = build_target(kind=\"gcn\" if isinstance(m, SmallGCN) else \"sage\")\n",
        "    new_m.load_state_dict(m.state_dict() )\n",
        "\n",
        "    return new_m\n",
        "\n",
        "# Adjusts onlt last layer\n",
        "def fine_tune_last_layer(m, steps=10, lr=0.01):\n",
        "    # freeze except last conv\n",
        "    for p in m.parameters():\n",
        "        p.requires_grad = False\n",
        "    last = None\n",
        "    for module in m.modules():\n",
        "        if isinstance(module, (GCNConv, SAGEConv)):\n",
        "            last = module\n",
        "\n",
        "    for p in last.parameters():\n",
        "        p.requires_grad = True\n",
        "    opt = torch.optim.Adam(filter(lambda p: p.requires_grad, m.parameters()), lr =lr, weight_decay= 5e-4)\n",
        "\n",
        "    for _ in range(steps):\n",
        "        run_train_epoch(m, data.x, data.edge_index, data.train_mask, data.y,opt)\n",
        "    return m\n",
        "\n",
        "# Clears last layer and retrains it\n",
        "def partial_reinit_and_train(m, steps=10, lr=0.01):\n",
        "    # reinit last conv and trains it\n",
        "    last = None\n",
        "    for module in m.modules():\n",
        "        if isinstance(module, (GCNConv, SAGEConv) ):\n",
        "            last = module\n",
        "\n",
        "    if hasattr(last, 'reset_parameters'):\n",
        "        last.reset_parameters()\n",
        "    opt = torch.optim.Adam(m.parameters(), lr= lr, weight_decay = 5e-4)\n",
        "\n",
        "    for _ in range(steps ):\n",
        "        run_train_epoch(m, data.x, data.edge_index, data.train_mask, data.y, opt)\n",
        "    return m\n",
        "\n",
        "# Tunes model for a short time\n",
        "def fine_tune_all(m, steps=10, lr=0.005):\n",
        "    opt = torch.optim.Adam(m.parameters(), lr=lr, weight_decay=5e-4)\n",
        "\n",
        "    for _ in range(steps):\n",
        "        run_train_epoch(m, data.x, data.edge_index, data.train_mask, data.y, opt)\n",
        "    return m\n",
        "\n",
        "# Build the suspects\n",
        "suspects: List[Tuple[str, str, int]] = [ ]\n",
        "\n",
        "# Positives (F+): variations from the target depending on the paper also fine-tunes and partial retrains\n",
        "make_deterministic(11)\n",
        "m1 = copy_model_like(target_model)\n",
        "suspects.append((\"ft_last\", \"./ft_last.pt\", 1))\n",
        "torch.save(fine_tune_last_layer(m1).state_dict(), suspects[-1][1])\n",
        "\n",
        "make_deterministic(12)\n",
        "m2 = copy_model_like(target_model)\n",
        "suspects.append((\"reinit_last\", \"./reinit_last.pt\", 1))\n",
        "torch.save(partial_reinit_and_train(m2).state_dict(), suspects[-1][1])\n",
        "\n",
        "make_deterministic(13)\n",
        "m3 = copy_model_like(target_model)\n",
        "suspects.append((\"ft_all\", \"./ft_all.pt\", 1) )\n",
        "torch.save(fine_tune_all(m3).state_dict(), suspects[-1][1])\n",
        "\n",
        "# Negatives (F-): independently initialized and trained models\n",
        "\n",
        "# Trains new model at different locations\n",
        "for seed in (100, 101, 102):\n",
        "    make_deterministic(seed)\n",
        "    mn = build_target(kind=os.environ.get(\"NEG_ARCH\", \"gcn\"))\n",
        "    opt = torch.optim.Adam(mn.parameters(), lr=0.01, weight_decay=5e-4)\n",
        "\n",
        "    for _ in range(100):\n",
        "        run_train_epoch(mn, data.x, data.edge_index, data.train_mask, data.y, opt)\n",
        "    path = f\"./neg_{seed}.pt\"\n",
        "\n",
        "    torch.save(mn.state_dict(), path)\n",
        "    suspects.append((f\"neg_{seed}\", path, 0))\n",
        "\n",
        "# Always include the exact target as a positive example\n",
        "torch.save(target_model.state_dict(), \"./target_main.pt\")\n",
        "suspects.insert(0, (\"target\", \"./target_main.pt\", 1))\n",
        "\n",
        "print(\"[info] Built suspects:\", [s[0] for s in suspects] )"
      ],
      "metadata": {
        "colab": {
          "base_uri": "https://localhost:8080/"
        },
        "id": "VT8_KAjihIFl",
        "outputId": "3c4e585c-f372-4bd5-ee76-0ff73326996b"
      },
      "execution_count": 33,
      "outputs": [
        {
          "output_type": "stream",
          "name": "stdout",
          "text": [
            "[info] Built suspects: ['target', 'ft_last', 'reinit_last', 'ft_all', 'neg_100', 'neg_101', 'neg_102']\n"
          ]
        }
      ]
    },
    {
      "cell_type": "code",
      "source": [
        "@dataclass\n",
        "class FingerprintSpec:\n",
        "    num_graphs: int =64 # N in paper\n",
        "    num_nodes: int = 32 # n in paper\n",
        "    edge_density: float = 0.05 # p/epsilon in paper for init\n",
        "    proj_every: int = 25 # steps between adjacency hardening\n",
        "    update_feat: bool = True # update X\n",
        "    update_adj: bool = True # update A via continuous weights + projection\n",
        "    node_sample: int= 0 # if > 0, sample m nodes per fp for outputs, else use all and mean\n",
        "\n",
        "fp_cfg = FingerprintSpec()\n",
        "\n",
        "# feature ranges for clipping\n",
        "feat_min = float (data.x.min().item())\n",
        "feat_max = float(data.x.max().item())\n",
        "\n",
        "class LearnableFingerprint(torch.nn.Module):\n",
        "    # Random node feature and random guess to which nodes are connected\n",
        "    def __init__ (self, num_nodes, feat_dim, density=0.05):\n",
        "        super().__init__()\n",
        "        self.num_nodes = num_nodes\n",
        "        self.feat = nn.Parameter(torch.randn(num_nodes, feat_dim) * 0.1)\n",
        "        self.adj_param= nn.Parameter(torch.randn(num_nodes, num_nodes) *-3.0)\n",
        "\n",
        "        with torch.no_grad():\n",
        "            mask = torch.rand(num_nodes, num_nodes) <density\n",
        "            mask.fill_diagonal_(0)\n",
        "            self.adj_param[mask] = 3.0\n",
        "            # Ensure symmetry in parameters\n",
        "            ap = (self.adj_param + self.adj_param.t())/2.0\n",
        "            self.adj_param.copy_(ap)\n",
        "\n",
        "        src,dst = torch.where(~torch.eye(num_nodes, dtype=torch.bool))\n",
        "        self.register_buffer(\"edge_index_all\", torch.stack([src,dst], dim=0))\n",
        "\n",
        "    def current_edge_weight(self):\n",
        "        w = torch.sigmoid(self.adj_param)\n",
        "        ew = w[self.edge_index_all[0], self.edge_index_all[1]]\n",
        "        return ew\n",
        "\n",
        "    # Keeps strongest connections only\n",
        "    def harden_topk(self):\n",
        "        with torch.no_grad():\n",
        "            w = torch.sigmoid(self.adj_param)\n",
        "\n",
        "            iu = torch.triu_indices(self.num_nodes, self.num_nodes, offset=1)\n",
        "            wu = w[iu[0], iu[1]]\n",
        "            k = max(1, int(fp_cfg.edge_density *wu.numel()))\n",
        "            vals, idx =torch.topk(wu, k)\n",
        "            keep = torch.zeros_like(wu, dtype = torch.bool)\n",
        "            keep[idx]= True\n",
        "            bin_u = torch.zeros_like(wu)\n",
        "            bin_u[keep] = 1.0\n",
        "\n",
        "            w_new = torch.zeros_like(w)\n",
        "            w_new[iu[0], iu[1]] = bin_u\n",
        "            w_new = w_new + w_new.t()\n",
        "\n",
        "            eps = 1e-3\n",
        "            w_new.clamp_(0, 1)\n",
        "            p_new = torch.log((w_new + eps)/(1 - w_new + eps))\n",
        "            self.adj_param.copy_((p_new + p_new.t())/ 2.0)\n",
        "\n",
        "    # Runs edge_index_all(static) and edge_weight from adj_param\n",
        "    def forward(self, model):\n",
        "        ew = self.current_edge_weight()\n",
        "        logits = model(self.feat, self.edge_index_all, edge_weight=ew)\n",
        "\n",
        "        return logits\n",
        "\n",
        "# Create the pool of fingerprints\n",
        "fp_pool: List[LearnableFingerprint] = [\n",
        "    LearnableFingerprint(fp_cfg.num_nodes, data.num_features, fp_cfg.edge_density).to(device)\n",
        "    for _ in range(fp_cfg.num_graphs)\n",
        "    ]\n"
      ],
      "metadata": {
        "id": "Rc3B0qgDh0jd"
      },
      "execution_count": 34,
      "outputs": []
    },
    {
      "cell_type": "code",
      "source": [
        "# Determine if suspect is valid or not\n",
        "class Univerifier(nn.Module):\n",
        "    def __init__(self, in_dim, hidden=[128, 64,32], p= 0.1):\n",
        "        super().__init__ ()\n",
        "        dims = [in_dim] + hidden + [2]\n",
        "        layers = []\n",
        "\n",
        "        for i in range(len(dims) -2):\n",
        "            layers += [nn.Linear(dims[i], dims[i+1]), nn.LeakyReLU(), nn.Dropout(p)]\n",
        "        layers+= [nn.Linear(dims[-2],dims[-1])]\n",
        "        self.net = nn.Sequential(*layers)\n",
        "\n",
        "    def forward(self, x):\n",
        "        return self.net(x)"
      ],
      "metadata": {
        "id": "pn_uH5TCjcdW"
      },
      "execution_count": 35,
      "outputs": []
    },
    {
      "cell_type": "code",
      "source": [
        "def load_model_from(path):\n",
        "    m = build_target(kind=os.environ.get(\"TARGET_ARCH\",  \"gcn\"))\n",
        "    m.load_state_dict(torch.load(path, map_location=device))\n",
        "    m.to(device).eval()\n",
        "\n",
        "    return m\n",
        "\n",
        "model_entries = [(nm, load_model_from(pth), lbl) for (nm, pth,lbl) in suspects]\n",
        "\n",
        "# Gives fingerprints to suspect model and records prediction\n",
        "def get_signature_from_model(m, fps: List[LearnableFingerprint], m_nodes: int = 0):\n",
        "    pieces = [ ]\n",
        "    with torch.no_grad():\n",
        "        for fp in fps:\n",
        "            out = fp.forward(m)\n",
        "\n",
        "            if m_nodes and m_nodes> 0 and m_nodes < fp.num_nodes:\n",
        "                idx = torch.randperm(fp.num_nodes, device=out.device)[:m_nodes]\n",
        "                probs = out[idx].softmax(dim=- 1).mean(dim= 0)\n",
        "            else:\n",
        "                probs = out.softmax(dim=-1).mean(dim=0)\n",
        "            pieces.append(probs)\n",
        "\n",
        "    return torch.cat(pieces, dim=0)\n",
        "\n",
        "# Initialize univerifier with the correct input dimension\n",
        "dummy_sig = get_signature_from_model(model_entries[0][1], fp_pool, m_nodes=fp_cfg.node_sample)\n",
        "uv = Univerifier(in_dim=dummy_sig.numel()).to(device)\n",
        "\n",
        "# Two optimizers, one for fingerprints (features + adjacency), one for the univerifier\n",
        "fp_params = []\n",
        "for fp in fp_pool:\n",
        "    if fp_cfg.update_feat:\n",
        "        fp_params.append(fp.feat)\n",
        "\n",
        "    if fp_cfg.update_adj:\n",
        "        fp_params.append(fp.adj_param)\n",
        "\n",
        "opt_fp = torch.optim.Adam(fp_params, lr=0.05)\n",
        "opt_uv = torch.optim.Adam(uv.parameters(), lr=1e-3, weight_decay=1e-4)\n",
        "\n",
        "joint_steps = int(os.environ.get(\"JOINT_STEPS\", \"300\"))\n",
        "print(f\"[info] Joint steps: {joint_steps} | proj_every={fp_cfg.proj_every} | update_feat={fp_cfg.update_feat} | update_adj={fp_cfg.update_adj}\")\n",
        "\n",
        "for step in range(1, joint_steps+1):\n",
        "    uv.train()\n",
        "    total_loss = 0.0\n",
        "    batch_inputs, batch_labels = [], [ ]\n",
        "\n",
        "    for (nm, mdl, lbl) in model_entries:\n",
        "        sig_pieces = []\n",
        "\n",
        "        for fp in fp_pool:\n",
        "            out = fp.forward(mdl)\n",
        "\n",
        "            if fp_cfg.node_sample and fp_cfg.node_sample > 0 and fp_cfg.node_sample <fp.num_nodes:\n",
        "                idx = torch.randperm(fp.num_nodes, device=out.device)[:fp_cfg.node_sample]\n",
        "                probs = out[idx].softmax(dim= -1).mean(dim=0)\n",
        "            else:\n",
        "                probs = out.softmax(dim=-1).mean(dim=0)\n",
        "            sig_pieces.append(probs)\n",
        "\n",
        "        sig_all = torch.cat(sig_pieces, dim=0)\n",
        "        batch_inputs.append(sig_all.unsqueeze( 0))\n",
        "        batch_labels.append(torch.tensor([lbl], device=device,dtype=torch.long) )\n",
        "\n",
        "    Xb =torch.cat(batch_inputs, dim= 0)\n",
        "    yb = torch.cat(batch_labels, dim=0)\n",
        "    logits = uv(Xb.float())\n",
        "    loss = F.cross_entropy(logits,yb)\n",
        "    total_loss = loss\n",
        "\n",
        "    opt_uv.zero_grad()\n",
        "    opt_fp.zero_grad()\n",
        "    total_loss.backward()\n",
        "\n",
        "    with torch.no_grad() :\n",
        "        for fp in fp_pool:\n",
        "            if fp_cfg.update_feat:\n",
        "                fp.feat.clamp_(feat_min, feat_max)\n",
        "\n",
        "    opt_uv.step()\n",
        "    opt_fp.step()\n",
        "\n",
        "    if fp_cfg.update_adj and (step % fp_cfg.proj_every == 0 or step == joint_steps):\n",
        "        for fp in fp_pool:\n",
        "            fp.harden_topk()\n",
        "\n",
        "    if step % 25 == 0 or step == 1 or step == joint_steps:\n",
        "        with torch.no_grad():\n",
        "            probs = logits.softmax(dim=1)[:,1]\n",
        "            avg_pos = probs[(yb==1) ].mean().item() if (yb == 1).any() else float('nan')\n",
        "            avg_neg = probs[(yb==0)].mean().item()  if (yb == 0).any() else float('nan')\n",
        "\n",
        "        print(f\"[joint] step={step:3d} | loss={total_loss.item():.4f} | avg_pos={avg_pos:.3f} | avg_neg={avg_neg:.3f}\")\n",
        "\n",
        "# Save learned artifacts\n",
        "torch.save(uv.state_dict(),\"./univerifier.pt\")\n",
        "torch.save({f\"fp_{i}\": (fp.feat.detach().cpu(), fp.adj_param.detach().cpu() ) for i, fp in enumerate(fp_pool)},\"./fingerprints.pt\")"
      ],
      "metadata": {
        "colab": {
          "base_uri": "https://localhost:8080/"
        },
        "id": "ntIlHd50jvVZ",
        "outputId": "7de50e7d-cc4f-4f50-96bf-ed1207385639",
        "collapsed": true
      },
      "execution_count": 36,
      "outputs": [
        {
          "output_type": "stream",
          "name": "stdout",
          "text": [
            "[info] Joint steps: 300 | proj_every=25 | update_feat=True | update_adj=True\n",
            "[joint] step=  1 | loss=0.6821 | avg_pos=0.548 | avg_neg=0.546\n",
            "[joint] step= 25 | loss=0.4522 | avg_pos=0.720 | avg_neg=0.458\n",
            "[joint] step= 50 | loss=0.0022 | avg_pos=0.998 | avg_neg=0.003\n",
            "[joint] step= 75 | loss=0.0008 | avg_pos=0.999 | avg_neg=0.000\n",
            "[joint] step=100 | loss=0.0001 | avg_pos=1.000 | avg_neg=0.000\n",
            "[joint] step=125 | loss=0.0003 | avg_pos=1.000 | avg_neg=0.001\n",
            "[joint] step=150 | loss=0.0001 | avg_pos=1.000 | avg_neg=0.000\n",
            "[joint] step=175 | loss=0.0001 | avg_pos=1.000 | avg_neg=0.000\n",
            "[joint] step=200 | loss=0.0000 | avg_pos=1.000 | avg_neg=0.000\n",
            "[joint] step=225 | loss=0.0000 | avg_pos=1.000 | avg_neg=0.000\n",
            "[joint] step=250 | loss=0.0000 | avg_pos=1.000 | avg_neg=0.000\n",
            "[joint] step=275 | loss=0.0001 | avg_pos=1.000 | avg_neg=0.000\n",
            "[joint] step=300 | loss=0.0001 | avg_pos=1.000 | avg_neg=0.000\n"
          ]
        }
      ]
    },
    {
      "cell_type": "code",
      "source": [
        "@torch.no_grad()\n",
        "def collect_signatures_all(models, fps, m_nodes=0):\n",
        "    bag = []\n",
        "\n",
        "    for (_, mdl, _lbl) in models:\n",
        "        bag.append(get_signature_from_model(mdl, fps, m_nodes=m_nodes).unsqueeze(0))\n",
        "    X = torch.cat(bag, dim=0)  # (num_models, N*C)\n",
        "\n",
        "    return X\n",
        "\n",
        "@torch.no_grad()\n",
        "def evaluate_curves(uv, models, fps, thresholds=None):\n",
        "    uv.eval()\n",
        "\n",
        "    if thresholds is None:\n",
        "        thresholds = torch.linspace(0.0, 1.0, steps =101)\n",
        "\n",
        "    labels = torch.tensor([lbl for (_, _, lbl) in models], device=device)\n",
        "    X = collect_signatures_all(models, fps, m_nodes=fp_cfg.node_sample).to(device).float()\n",
        "    logits =uv(X)\n",
        "    prob_pos = logits.softmax(dim=1)[:,1]\n",
        "\n",
        "    # Save raw outputs for ROC\n",
        "    labels_list = labels.detach().cpu().numpy().tolist()\n",
        "    probs_list = prob_pos.detach().cpu().numpy().tolist()\n",
        "\n",
        "    pos_mask = labels == 1\n",
        "    neg_mask = labels == 0\n",
        "\n",
        "    rob_list, uniq_list, acc_list = [],[],[]\n",
        "    for t in thresholds:\n",
        "        pred_pos = (prob_pos >=t).long()\n",
        "        tp = ((pred_pos == 1) &pos_mask).sum().item()\n",
        "        tn = ((pred_pos == 0) & neg_mask).sum().item()\n",
        "\n",
        "        p_total= pos_mask.sum().item()\n",
        "        n_total = neg_mask.sum().item()\n",
        "\n",
        "        robustness = tp /max(1, p_total)\n",
        "        uniqueness= tn / max(1, n_total)\n",
        "\n",
        "        mean_acc =(tp + tn) / max(1, (p_total +n_total))\n",
        "        rob_list.append(robustness)\n",
        "        uniq_list.append(uniqueness)\n",
        "        acc_list.append(mean_acc)\n",
        "\n",
        "    # ARUC\n",
        "    import numpy as np\n",
        "    inter = np.minimum(np.array(rob_list), np.array(uniq_list ))\n",
        "    aruc = float(np.trapz(inter, x=np.linspace(0, 1, len(inter))))\n",
        "\n",
        "    auc_val = roc_auc_score(labels_list, probs_list)\n",
        "\n",
        "    return {\n",
        "        \"thresholds\": thresholds.tolist(),\n",
        "        \"robustness\": rob_list,\n",
        "        \"uniqueness\": uniq_list,\n",
        "        \"mean_accuracy\": acc_list,\n",
        "        \"ARUC\": aruc,\n",
        "        \"ROC_AUC\": auc_val,\n",
        "        \"labels\": labels_list,\n",
        "        \"probs\": probs_list\n",
        "    }\n"
      ],
      "metadata": {
        "id": "ukPHGlPLqkdS"
      },
      "execution_count": 37,
      "outputs": []
    },
    {
      "cell_type": "code",
      "source": [
        "# Evaluate after joint training\n",
        "metrics = evaluate_curves(uv, model_entries, fp_pool)\n",
        "\n",
        "# Overwrite the JSON with the new version\n",
        "import json\n",
        "with open(\"./verification_metrics.json\", \"w\") as f:\n",
        "    json.dump(metrics, f, indent=2)\n",
        "\n",
        "print(\"Saved verification_metrics.json with labels and probs included.\")"
      ],
      "metadata": {
        "colab": {
          "base_uri": "https://localhost:8080/"
        },
        "collapsed": true,
        "id": "j1VHlTYfzBzZ",
        "outputId": "99e8ca58-bf62-41fd-8e3a-2c76989a50f3"
      },
      "execution_count": 38,
      "outputs": [
        {
          "output_type": "stream",
          "name": "stdout",
          "text": [
            "Saved verification_metrics.json with labels and probs included.\n"
          ]
        },
        {
          "output_type": "stream",
          "name": "stderr",
          "text": [
            "/tmp/ipython-input-505843979.py:50: DeprecationWarning: `trapz` is deprecated. Use `trapezoid` instead, or one of the numerical integration functions in `scipy.integrate`.\n",
            "  aruc = float(np.trapz(inter, x=np.linspace(0, 1, len(inter))))\n"
          ]
        }
      ]
    },
    {
      "cell_type": "code",
      "source": [
        "!head -n 20 verification_metrics.json"
      ],
      "metadata": {
        "colab": {
          "base_uri": "https://localhost:8080/"
        },
        "collapsed": true,
        "id": "Vw_947IdzC3C",
        "outputId": "7225834a-7f83-4222-ef0d-02703d61f500"
      },
      "execution_count": 39,
      "outputs": [
        {
          "output_type": "stream",
          "name": "stdout",
          "text": [
            "{\n",
            "  \"thresholds\": [\n",
            "    0.0,\n",
            "    0.009999999776482582,\n",
            "    0.019999999552965164,\n",
            "    0.029999999329447746,\n",
            "    0.03999999910593033,\n",
            "    0.04999999701976776,\n",
            "    0.05999999865889549,\n",
            "    0.07000000029802322,\n",
            "    0.07999999821186066,\n",
            "    0.08999999612569809,\n",
            "    0.09999999403953552,\n",
            "    0.10999999940395355,\n",
            "    0.11999999731779099,\n",
            "    0.12999999523162842,\n",
            "    0.14000000059604645,\n",
            "    0.14999999105930328,\n",
            "    0.1599999964237213,\n",
            "    0.17000000178813934,\n"
          ]
        }
      ]
    },
    {
      "cell_type": "code",
      "source": [
        "\n",
        "# Load metrics\n",
        "with open(\"verification_metrics.json\") as f:\n",
        "    metrics = json.load(f)\n",
        "\n",
        "thresholds =np.array(metrics[\"thresholds\"])\n",
        "robustness=np.array(metrics[\"robustness\"])\n",
        "uniqueness = np.array(metrics[\"uniqueness\"])\n",
        "intersection = np.minimum(robustness, uniqueness)\n",
        "\n",
        "# Verification Curves\n",
        "plt.figure(figsize=(6, 4))\n",
        "plt.plot(thresholds, robustness, label=\"Robustness\", lw = 2)\n",
        "plt.plot( thresholds, uniqueness, label=\"Uniqueness\", lw = 2)\n",
        "plt.plot(thresholds, intersection, \"--\", label=\"min(R,U)\", lw = 2)\n",
        "plt.xlabel(\"Threshold\")\n",
        "plt.ylabel(\"Score\")\n",
        "plt.title(\"Verification Curves\")\n",
        "plt.legend()\n",
        "plt.grid(True)\n",
        "plt.show()\n",
        "\n",
        "# ROC Curve\n",
        "labels = np.array(metrics[\"labels\"] )\n",
        "probs = np.array(metrics[\"probs\"])\n",
        "\n",
        "fpr, tpr, _ =roc_curve(labels, probs)\n",
        "roc_auc = auc(fpr, tpr)\n",
        "\n",
        "plt.figure (figsize =(6,4))\n",
        "plt.plot(fpr, tpr, label = f\"ROC curve (AUC = {roc_auc:.3f})\", lw = 2)\n",
        "plt.plot([0,1],[0,1],'--', color='gray')\n",
        "plt.xlabel(\"False Positive Rate\")\n",
        "plt.ylabel(\"True Positive Rate\")\n",
        "plt.title(\"ROC Curve\")\n",
        "plt.legend()\n",
        "plt.grid(True)\n",
        "plt.show()\n",
        "\n",
        "# Summary numbers\n",
        "print(\"ARUC:\", metrics[\"ARUC\" ])\n",
        "print(\"ROC-AUC:\", metrics[\"ROC_AUC\"])\n",
        "print(\"Mean test accuracy:\", np.mean(metrics[\"mean_accuracy\"]))"
      ],
      "metadata": {
        "colab": {
          "base_uri": "https://localhost:8080/",
          "height": 855
        },
        "id": "-FT-wzHrqppK",
        "outputId": "da7173e6-5bdc-472b-a6b4-3ccba4278762"
      },
      "execution_count": 40,
      "outputs": [
        {
          "output_type": "display_data",
          "data": {
            "text/plain": [
              "<Figure size 600x400 with 1 Axes>"
            ],
            "image/png": "[encoded data removed]"
          },
          "metadata": {}
        },
        {
          "output_type": "display_data",
          "data": {
            "text/plain": [
              "<Figure size 600x400 with 1 Axes>"
            ],
            "image/png": "[encoded data removed]"
          },
          "metadata": {}
        },
        {
          "output_type": "stream",
          "name": "stdout",
          "text": [
            "ARUC: 0.99\n",
            "ROC-AUC: 1.0\n",
            "Mean test accuracy: 0.9900990099009901\n"
          ]
        }
      ]
    }
  ]
}